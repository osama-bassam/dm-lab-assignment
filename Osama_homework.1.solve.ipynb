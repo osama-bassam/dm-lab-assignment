{
 "cells": [
  {
   "cell_type": "markdown",
   "id": "539a47d2",
   "metadata": {},
   "source": [
    "# Homework 1 Solved by <span style=\"color: red;\">Osama</span>\n"
   ]
  },
  {
   "cell_type": "markdown",
   "id": "cd19b1da",
   "metadata": {},
   "source": [
    "## 1 -) <span style=\"color: green;\">Decision Rule:</span>\n",
    "\n",
    "\n",
    "**<span style=\"color: Purple;\"> X[3] <= 0.5 : </span> This represents the decision rule for the split at this node. It indicates that the decision is based on the value of the feature at index 3 (presumably the fourth feature in your dataset), and the split is made based on whether its value is less than or equal to 0.5.**\n",
    "## 2-) <span style=\"color: green;\">Entropy:</span>\n",
    "\n",
    "**<span style=\"color: Purple;\">entropy = 1.186:</span> This is the measure of impurity or disorder in the data at this node. In decision trees, the algorithm aims to reduce entropy by making splits that result in more homogeneous subsets. Lower entropy values indicate a more pure node.**\n",
    "## 3-)<span style=\"color: green;\">Samples:</span>\n",
    "\n",
    "**<span style=\"color: Purple;\">samples = 1157:</span> This shows the number of samples (data points) that reached this node during the training process. In this case, 1157 samples led to this specific decision node.**\n",
    "## 4-) <span style=\"color: green;\">Value:</span>\n",
    "\n",
    "**<span style=\"color: Purple;\">value = [253, 47, 818, 39]:</span> This represents the distribution of class labels in the samples that reached this node. The values in the list correspond to the count of samples for each class. In this example, the classes might be represented as follows:\n",
    "Class 0: 253 samples\n",
    "Class 1: 47 samples\n",
    "Class 2: 818 samples\n",
    "Class 3: 39 samples\n",
    "The decision tree is trying to make decisions based on the features in a way that minimizes impurity, and the \"value\" information helps you understand how many samples of each class are present at this particular node.**\n",
    "\n",
    "**To interpret this node, you can say that it represents a decision based on the feature at index 3, with a threshold of 0.5. The node has 1157 samples, and the classes are distributed as described in the \"value\" section. The entropy of 1.186 indicates the impurity or disorder at this node.**"
   ]
  }
 ],
 "metadata": {
  "kernelspec": {
   "display_name": "Python 3 (ipykernel)",
   "language": "python",
   "name": "python3"
  },
  "language_info": {
   "codemirror_mode": {
    "name": "ipython",
    "version": 3
   },
   "file_extension": ".py",
   "mimetype": "text/x-python",
   "name": "python",
   "nbconvert_exporter": "python",
   "pygments_lexer": "ipython3",
   "version": "3.11.5"
  }
 },
 "nbformat": 4,
 "nbformat_minor": 5
}
